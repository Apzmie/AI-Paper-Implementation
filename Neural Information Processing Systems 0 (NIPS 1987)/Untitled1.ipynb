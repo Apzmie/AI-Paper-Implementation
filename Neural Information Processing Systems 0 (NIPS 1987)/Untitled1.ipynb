{
  "nbformat": 4,
  "nbformat_minor": 0,
  "metadata": {
    "colab": {
      "provenance": []
    },
    "kernelspec": {
      "name": "python3",
      "display_name": "Python 3"
    },
    "language_info": {
      "name": "python"
    }
  },
  "cells": [
    {
      "cell_type": "markdown",
      "source": [
        "[Figure 1 in page 826]\n",
        "- If the neuron accumulates sufficient Activation Energy, it will produce an output.\n",
        "- If the energy is insufficient, no output will be generated."
      ],
      "metadata": {
        "id": "B73ZWDFP3Y9a"
      }
    },
    {
      "cell_type": "code",
      "source": [
        "class Neuron:\n",
        "    def __init__(self, threshold):\n",
        "        self.threshold = threshold\n",
        "        self.activation_energy = 0\n",
        "\n",
        "    def accumulate_energy(self, energy):\n",
        "        self.activation_energy += energy\n",
        "        print(f\"Accumulated Energy: {self.activation_energy}\")\n",
        "\n",
        "    def generate_output(self):\n",
        "        if self.activation_energy >= self.threshold:\n",
        "            print(\"Output: 1\")\n",
        "            self.activation_energy = 0\n",
        "        else:\n",
        "            print(\"Output: 0\")\n",
        "            self.activation_energy = max(0, self.activation_energy - 2)\n",
        "\n",
        "neuron = Neuron(threshold=5)\n",
        "\n",
        "neuron.accumulate_energy(1)\n",
        "neuron.generate_output()      # -2\n",
        "neuron.accumulate_energy(4)\n",
        "neuron.generate_output()      # reset\n",
        "neuron.accumulate_energy(1)\n",
        "neuron.generate_output()"
      ],
      "metadata": {
        "colab": {
          "base_uri": "https://localhost:8080/"
        },
        "id": "aJDEDc8r6vJi",
        "outputId": "0784359e-b024-4a54-ba27-ef1ca86c9a94"
      },
      "execution_count": null,
      "outputs": [
        {
          "output_type": "stream",
          "name": "stdout",
          "text": [
            "Accumulated Energy: 3\n",
            "Output: 0\n",
            "Accumulated Energy: 5\n",
            "Output: 1\n",
            "Accumulated Energy: 1\n",
            "Output: 0\n"
          ]
        }
      ]
    },
    {
      "cell_type": "markdown",
      "source": [
        "Firing Period (T) = Critical Energy (Ec) / Energy Influx Rate (a)\n",
        "- The higher the critical energy, the longer the firing period because it takes a long time to accumulate enough energy to fire.\n",
        "- The higher the energy influx rate, the shorter the firing period because energy will be accumulated quickly."
      ],
      "metadata": {
        "id": "Hu4SVZn8qLgy"
      }
    },
    {
      "cell_type": "code",
      "execution_count": null,
      "metadata": {
        "colab": {
          "base_uri": "https://localhost:8080/"
        },
        "id": "4GppepVLCIPw",
        "outputId": "b8acb499-2ec1-4d68-aaac-a9ac2b5d44ae"
      },
      "outputs": [
        {
          "output_type": "stream",
          "name": "stdout",
          "text": [
            "5.0\n"
          ]
        }
      ],
      "source": [
        "def firing_period(Ec, a):\n",
        "    T = Ec / a\n",
        "    return T\n",
        "\n",
        "Ec = 10\n",
        "a = 2\n",
        "\n",
        "T = firing_period(Ec, a)\n",
        "print(T)"
      ]
    }
  ]
}
