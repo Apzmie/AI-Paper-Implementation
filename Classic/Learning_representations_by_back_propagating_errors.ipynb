{
  "nbformat": 4,
  "nbformat_minor": 0,
  "metadata": {
    "colab": {
      "provenance": []
    },
    "kernelspec": {
      "name": "python3",
      "display_name": "Python 3"
    },
    "language_info": {
      "name": "python"
    }
  },
  "cells": [
    {
      "cell_type": "markdown",
      "source": [
        "![image.png](data:image/png;base64,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)"
      ],
      "metadata": {
        "id": "fiXnLgwtg4VD"
      }
    },
    {
      "cell_type": "markdown",
      "source": [
        "- i: units of input layer\n",
        "- j: units of output layer\n",
        "- $y_i$: output of input layer = input value\n",
        "- $w_{ji}$: weights between input and output layer\n",
        "- $x_j$: input of output layer"
      ],
      "metadata": {
        "id": "9wd8EgXChluK"
      }
    },
    {
      "cell_type": "code",
      "execution_count": 2,
      "metadata": {
        "colab": {
          "base_uri": "https://localhost:8080/"
        },
        "id": "jQhgrUcugxLA",
        "outputId": "bbadd833-7048-4826-e24f-518c1ded3535"
      },
      "outputs": [
        {
          "output_type": "stream",
          "name": "stdout",
          "text": [
            "tensor([[0., 0.],\n",
            "        [0., 1.],\n",
            "        [1., 0.],\n",
            "        [1., 1.]])\n",
            "tensor([[0.0223],\n",
            "        [0.9676]])\n",
            "tensor([[0.0000],\n",
            "        [0.9676],\n",
            "        [0.0223],\n",
            "        [0.9899]])\n"
          ]
        }
      ],
      "source": [
        "import torch\n",
        "\n",
        "y_i = torch.tensor([[0,0], [0,1], [1,0], [1,1]], dtype=torch.float32)\n",
        "\n",
        "w_ji = torch.rand(2, 1)\n",
        "\n",
        "x_j = y_i @ w_ji\n",
        "\n",
        "print(y_i)        # (4,2)\n",
        "print(w_ji)       # (2,1)\n",
        "print(x_j)"
      ]
    },
    {
      "cell_type": "markdown",
      "source": [
        "![image.png](data:image/png;base64,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)"
      ],
      "metadata": {
        "id": "J5FN7FYppuPs"
      }
    },
    {
      "cell_type": "markdown",
      "source": [
        "sigmoid: 0~1\n",
        "\n",
        "- $y_j$: output of output layer"
      ],
      "metadata": {
        "id": "DmD5UtnVqHnu"
      }
    },
    {
      "cell_type": "code",
      "source": [
        "def sigmoid(x):\n",
        "    return 1 / (1 + torch.exp(-x))\n",
        "\n",
        "y_j = sigmoid(x_j)\n",
        "print(y_j)"
      ],
      "metadata": {
        "colab": {
          "base_uri": "https://localhost:8080/"
        },
        "id": "8m1t_qx0qCxm",
        "outputId": "4f6d03e6-b849-4de5-80ce-f94b47905313"
      },
      "execution_count": 3,
      "outputs": [
        {
          "output_type": "stream",
          "name": "stdout",
          "text": [
            "tensor([[0.5000],\n",
            "        [0.7246],\n",
            "        [0.5056],\n",
            "        [0.7291]])\n"
          ]
        }
      ]
    },
    {
      "cell_type": "markdown",
      "source": [
        "![image.png](data:image/png;base64,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)"
      ],
      "metadata": {
        "id": "ImAdMyBoysHF"
      }
    },
    {
      "cell_type": "markdown",
      "source": [
        "- c: input & output sample\n",
        "- $y_{j,c}$: actual value\n",
        "- $d_{j,c}$: desired value\n",
        "- 1/2: to eliminate integer 2 to calculate simply after differentiating error function\n",
        "- $^2$: to make error positive\n",
        "- ∑: to express all errors as one value"
      ],
      "metadata": {
        "id": "3dtr1wHD0yVH"
      }
    },
    {
      "cell_type": "code",
      "source": [
        "d_j = torch.tensor([[0], [1], [1], [0]], dtype=torch.float32)\n",
        "\n",
        "E = 0.5 * torch.sum((y_j - d_j) ** 2)\n",
        "print(E)"
      ],
      "metadata": {
        "colab": {
          "base_uri": "https://localhost:8080/"
        },
        "id": "T1I8CdPzE9Fj",
        "outputId": "e9bcaac6-564b-429b-d8c9-518d92072438"
      },
      "execution_count": 4,
      "outputs": [
        {
          "output_type": "stream",
          "name": "stdout",
          "text": [
            "tensor(0.5509)\n"
          ]
        }
      ]
    },
    {
      "cell_type": "markdown",
      "source": [
        "![image.png](data:image/png;base64,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)"
      ],
      "metadata": {
        "id": "EtaF9uX_VTzT"
      }
    },
    {
      "cell_type": "markdown",
      "source": [
        "- $∂E / ∂y_j$: partial derivative about $y_j$"
      ],
      "metadata": {
        "id": "hvG4O8BgXgw3"
      }
    },
    {
      "cell_type": "code",
      "source": [
        "partial_derivative_yj = y_j - d_j\n",
        "print(partial_derivative_yj)"
      ],
      "metadata": {
        "colab": {
          "base_uri": "https://localhost:8080/"
        },
        "id": "Hdjyw0482eTc",
        "outputId": "cf194c45-49d5-4ed0-df72-ff9afbb0641d"
      },
      "execution_count": 5,
      "outputs": [
        {
          "output_type": "stream",
          "name": "stdout",
          "text": [
            "tensor([[ 0.5000],\n",
            "        [-0.2754],\n",
            "        [-0.4944],\n",
            "        [ 0.7291]])\n"
          ]
        }
      ]
    },
    {
      "cell_type": "markdown",
      "source": [
        "![image.png](data:image/png;base64,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)"
      ],
      "metadata": {
        "id": "de25MPSEb1Y8"
      }
    },
    {
      "cell_type": "markdown",
      "source": [
        "- $∂E / ∂x_j$: partial derivative about $x_j$\n",
        "- $dy_j / dx_j$: sigmoid derivative\n",
        "- Although there is no $x_j$ in error function, $y_j$ is related to $x_j$. Differentiate sigmoid and multiply to know how $x_j$ affects error function."
      ],
      "metadata": {
        "id": "t2251JiOcl8Q"
      }
    },
    {
      "cell_type": "markdown",
      "source": [
        "![image.png](data:image/png;base64,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)"
      ],
      "metadata": {
        "id": "ePKTjBt4ioaq"
      }
    },
    {
      "cell_type": "markdown",
      "source": [
        "$y_j(1-y_j)$: sigmoid derivative"
      ],
      "metadata": {
        "id": "SB6lu0EGi_Hk"
      }
    },
    {
      "cell_type": "code",
      "source": [
        "partial_derivative_xj = partial_derivative_yj * y_j * (1 - y_j)\n",
        "print(partial_derivative_xj)"
      ],
      "metadata": {
        "colab": {
          "base_uri": "https://localhost:8080/"
        },
        "id": "oKUOvH7U3edV",
        "outputId": "11aa08ac-58a0-4cfc-b82f-bed96f71ab2c"
      },
      "execution_count": 6,
      "outputs": [
        {
          "output_type": "stream",
          "name": "stdout",
          "text": [
            "tensor([[ 0.1250],\n",
            "        [-0.0549],\n",
            "        [-0.1236],\n",
            "        [ 0.1440]])\n"
          ]
        }
      ]
    },
    {
      "cell_type": "markdown",
      "source": [
        "![image.png](data:image/png;base64,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)"
      ],
      "metadata": {
        "id": "yxq-cnyQlst3"
      }
    },
    {
      "cell_type": "markdown",
      "source": [
        "- Likewise, differentiate about $w_{ji}$ to know how $w_{ji}$ affects error function."
      ],
      "metadata": {
        "id": "RWfZu892mKr5"
      }
    },
    {
      "cell_type": "code",
      "source": [
        "partial_derivative_wji = partial_derivative_xj * y_i\n",
        "print(partial_derivative_wji)"
      ],
      "metadata": {
        "colab": {
          "base_uri": "https://localhost:8080/"
        },
        "id": "VMNYuy5C5BI4",
        "outputId": "ddbb3199-e540-4eb4-f643-068c90af989e"
      },
      "execution_count": 11,
      "outputs": [
        {
          "output_type": "stream",
          "name": "stdout",
          "text": [
            "tensor([[ 0.0000,  0.0000],\n",
            "        [-0.0000, -0.0549],\n",
            "        [-0.1236, -0.0000],\n",
            "        [ 0.1440,  0.1440]])\n"
          ]
        }
      ]
    },
    {
      "cell_type": "markdown",
      "source": [
        "![image.png](data:image/png;base64,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)"
      ],
      "metadata": {
        "id": "wygiZmh6pTqk"
      }
    },
    {
      "cell_type": "markdown",
      "source": [
        "- This equation is equal to $∂E/∂y_i$ which means how input value affects error function."
      ],
      "metadata": {
        "id": "ido-FCHhsPq-"
      }
    },
    {
      "cell_type": "markdown",
      "source": [
        "![image.png](data:image/png;base64,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)"
      ],
      "metadata": {
        "id": "njlxeqMVnpZz"
      }
    },
    {
      "cell_type": "markdown",
      "source": [
        "- Because input value is not changeable, $w_{ji}$ should be adjusted."
      ],
      "metadata": {
        "id": "ER6QnPvtqso7"
      }
    },
    {
      "cell_type": "code",
      "source": [
        "partial_derivative_yi = partial_derivative_xj * w_ji.T\n",
        "print(partial_derivative_yi)"
      ],
      "metadata": {
        "colab": {
          "base_uri": "https://localhost:8080/"
        },
        "id": "F6o5ZSdv6Mvj",
        "outputId": "60239eba-8f54-44fd-a606-3d8fb60f31d5"
      },
      "execution_count": 9,
      "outputs": [
        {
          "output_type": "stream",
          "name": "stdout",
          "text": [
            "tensor([[ 0.0028,  0.1210],\n",
            "        [-0.0012, -0.0532],\n",
            "        [-0.0028, -0.1196],\n",
            "        [ 0.0032,  0.1393]])\n"
          ]
        }
      ]
    },
    {
      "cell_type": "markdown",
      "source": [
        "![image.png](data:image/png;base64,iVBORw0KGgoAAAANSUhEUgAAAI8AAAAgCAIAAACkS7z/AAAIeklEQVRoBe1YeUxTzRY/GlAWcUFsXpHKQ3YTNYBIFDGEFlOJVkFFaISEh4REJIYYiaKkLiz/4Iq4YgQVaYiKSMSUIiCyaANGDYsswQKllE22QgFL5/mYx83NLVsl7+PD1/PH7Zmz3/nNzD1TQFpaODMAC6dUbaVIi9ZCWgRatLRoLaQZWEi1aveWFq2FNAMLqVbt3voT0RoeHq6srOzt7V1IL/fH1TrbvVVdXQ0A6enpf9wMTPdCYrG4oqICIdTU1FReXp6Zmdnc3JyUlCSVSid1+/jxY1JS0suXLyfVzl04W7R8fX3/39A6c+aMm5vbxo0bfX19MbNmzZqdO3f6+fmFhYVNOvXR0dEAkJ+fP6l27sLZokWj0QBgxYoV7e3tc8/6d4jQ399fTaKhoSFKVRKJBMbJysoqKyvr8uXLPj4+R44ckcvlAQEBFGM8jI6OXrRokbpKLBarC39DMiu0cnNzGQzGjh07AODOnTu/keZv6JKVlYXBwE+RSEQpcmhoCKvKysooqkmHLS0tXl5e+/btI2tFItHt27etra1vj5NKpSJrNeVnRksgEDAYjLS0tFu3bv06DG1tbdVz5OXl+fn5nThxAqtkMhkBan5+vp+fX0dHh7rX/EokEomXl1dMTMypU6cAYCq0fp17nZ2dsyk1Ly8PAN69e0c25vF45DXB4/HIWk35mdFKSkqi0+mdnZ1yuZzD4VhYWMhkMkqae/fuAYCVlRWWFxQU6OvrZ2RkIIQePHgAAI6OjhSX0tLSf4wTn88PCAgIDg7m8/lYgp+PHj2iuGg6VCqV9+/fj42NZbPZ38ZJoVCQg/T19Y2MjCgUitDQUAaDQVYhhGprawEgPj6ekIvF4ubmZmJIZpRKpbGx8erVqymo9/f3Sydo+/btbm5u2GtwcBCXROy22tpaYk13dXVxOBxKtQjN9K/ujx8//P39+Xw+znH48GEACA0NJReKECoqKrK0tCTQMjMzA4DU1FQCrePHj1NcwsPDra2tQ0JC6HS6u7u7m5sbnU4PCQmxtbXds2ePpaUlZZFS3GczTElJAYBt27YZGxvjBf7p06dJHU+ePGloaEhRbd26FQC8vb3vTpCFhYWnpyfFDA+VSiUAXLhwYVItFiYkJBBo1dXVbdmyBQCeP3+Otbq6umw2u6WlRSaT7d+/HwDwcicHnGFvVVVVAQCB1vv375cvX25lZVVSUkKOghDicrnToKX+mZXL5TiIUChsbGysr68XCoUIoQ8fPshksuLiYkp8hFBycrL/tHT16lXCKyUlZeXKlU5OTjU1Na9fv05LS2Oz2QRag4ODOFJQUFBFRYWdnd1UaJHPMQCYCi0ej7dhw4avX78SBZCZixcvIoRiYmIItBBCly5dAoCcnBxsqaury+FwpFJpR0cH7sCzs7PJQWbeW/b29oGBgYODg4Sbo6MjADx9+pSQYIbL5a5bt66urq6vr8/FxQXvrdHR0bi4OBqNJpFIKPbfv39PTEy8du1a3RSkfhPv6enx8PCwmpqOHTtGZOnp6bG3t2exWDh8a2trb2/vyMgINvD09DQ0NMSR8M6joNXZ2blp0yZ3d3cJiQ4cODDpN6yrq8vJycnDw4PIjhBSqVSm4+Ts7Lx+/XpTU9MlS5aQ0bp586a+vj6Hw0EISSQSHR2dZcuWFRYWIoTi4uJMTU2Hh4fJAWdGy9ra+vHjx2SfmpoaADh69KhcLifLuVzuLxRtbGxKS0sbGhoAICgo6MuXLzY2NuobESEUFhZGWbaU4d27d8nxNeVLSkrWrl1LxKS0ag4ODnv37kUIKRSKXbt2AcChQ4fIKSIjIwGAzWaThVPxZ8+eBYCEhASygUqlAgAHB4eamppv377hVU5GCyHEZDItLS1FIhGLxcKlCgQCmUzm7e395s0bcjTMT3cSXr9+nUajPXz4kOyG0QKA1tZWshyjFRwcjBDCaAEAi8UKCgoimxH8wMDA42mprq6OMP4NJjw83MDAgMhQUFBABHny5AmdTifusNnZ2eo9oaZoLV68mIiPGYwW0QSeP38eANTRAoCoqCihUIhv1gKBoLS0FAA0RuvgwYMAYGhoaEai9PR0vApcXV3J9XG5XB0dndOnT5PRcnFx6e7uJpv9NfzAwEBgYOCqVatwOqVS2dDQ0NPTg4cRERFGRkaYHxsbww0tpZeLjIxcunQp0aRh4+HhYTMzsxs3buAhfhYVFRkZGT179owsRAi1tLQAAAWttrY2shmTycRoIYSKi4sBwMTEhMFgnDt3Tv22PsNJiNHC2OzevZs4VTBD3K5wenKX0d7e/q9x6urqIhf3l/Hl5eX29vYGBgZCobCsrCwxMREArly5gguIiIjQ09PLzc1FCPH5fABwdnZubGzE2tHR0eTkZDabraOjk5yc/Pnz51evXiWP0507d0xNTSkff6FQCABFRUWUt4uPjyfQkkqlHA6HzWaPjY2RzZhMJo1Gw20hRmv6xnK6k7CwsDB1gtra2ibY//6SWw/cxL948YJcyvzy4eHhAMBgMOzs7PT19VNTU6uqqnBJIpHI3NzczMwsICDA2Nh48+bNlZWVRLX4I0QsTQcHBxMTE2JI6Ql//vzJYrF8fHzU76DESRgXF4c/jW/fviWyYIbJZBJHFIGWenNBeE2HFmG0EJnu7m7xBKlfaevr67lcbmRkpEAgoPzzKZVKJ/z+8xsVFZWTk5ORkREbGysWiymoNDU16enpJSYmqk+RSqXKzMw0Nzf/5zjxeDz1265MJiPORoVCgfMS92X1mH8sWuqv+r+QuLq6MpnMaSJnZmZWV1dPY6CRSouWRtNFNZ4RLarD3MZatOY0fz4+Pv7+/nMKoYmzFi1NZmu+bbVozTcCmuTXoqXJbM23rRat+UZAk/xatDSZrfm2/Tdxp7NNh0v/CgAAAABJRU5ErkJggg==)"
      ],
      "metadata": {
        "id": "DjQgZMlfM986"
      }
    },
    {
      "cell_type": "markdown",
      "source": [
        "- ε: learning rate\n",
        "- Updating weights to opposite direction of gradient"
      ],
      "metadata": {
        "id": "Jrm428PsNVyL"
      }
    },
    {
      "cell_type": "code",
      "source": [
        "print(\"Original gradient of weights\")\n",
        "print(partial_derivative_wji)\n",
        "\n",
        "ε = 0.1\n",
        "\n",
        "for _ in range(5):\n",
        "    Δw = -ε * partial_derivative_wji\n",
        "\n",
        "    partial_derivative_wji += Δw\n",
        "\n",
        "    print(\"Updated gradient of weights:\")\n",
        "    print(partial_derivative_wji)"
      ],
      "metadata": {
        "colab": {
          "base_uri": "https://localhost:8080/"
        },
        "id": "jB71MmulfRmK",
        "outputId": "d7d6d9b8-5b68-4fcb-ea67-94ab72cd8b02"
      },
      "execution_count": 10,
      "outputs": [
        {
          "output_type": "stream",
          "name": "stdout",
          "text": [
            "Original gradient of weights\n",
            "tensor([[ 0.0000,  0.0000],\n",
            "        [-0.0000, -0.0549],\n",
            "        [-0.1236, -0.0000],\n",
            "        [ 0.1440,  0.1440]])\n",
            "Updated gradient of weights:\n",
            "tensor([[ 0.0000,  0.0000],\n",
            "        [ 0.0000, -0.0494],\n",
            "        [-0.1112,  0.0000],\n",
            "        [ 0.1296,  0.1296]])\n",
            "Updated gradient of weights:\n",
            "tensor([[ 0.0000,  0.0000],\n",
            "        [ 0.0000, -0.0445],\n",
            "        [-0.1001,  0.0000],\n",
            "        [ 0.1166,  0.1166]])\n",
            "Updated gradient of weights:\n",
            "tensor([[ 0.0000,  0.0000],\n",
            "        [ 0.0000, -0.0401],\n",
            "        [-0.0901,  0.0000],\n",
            "        [ 0.1050,  0.1050]])\n",
            "Updated gradient of weights:\n",
            "tensor([[ 0.0000,  0.0000],\n",
            "        [ 0.0000, -0.0360],\n",
            "        [-0.0811,  0.0000],\n",
            "        [ 0.0945,  0.0945]])\n",
            "Updated gradient of weights:\n",
            "tensor([[ 0.0000,  0.0000],\n",
            "        [ 0.0000, -0.0324],\n",
            "        [-0.0730,  0.0000],\n",
            "        [ 0.0850,  0.0850]])\n"
          ]
        }
      ]
    },
    {
      "cell_type": "markdown",
      "source": [
        "![image.png](data:image/png;base64,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)"
      ],
      "metadata": {
        "id": "ihaoK8OKP0NA"
      }
    },
    {
      "cell_type": "markdown",
      "source": [
        "- $α$: decay factor (0 ~ 1), Why decay? $αΔw(t-1)$ decreases over time because weights change decreases during learning too.\n",
        "- $Δw(t-1)$: weights change just before\n",
        "- Adding $αΔw(t-1)$ can make updating quickly if $-ε∂E/∂w(t)$ and $αΔw(t-1)$ head same direction, and can reduce insufficient progress if they head different direction.\n",
        "- αΔw(t−1) is called momentum today."
      ],
      "metadata": {
        "id": "W10f_R_WQBUl"
      }
    },
    {
      "cell_type": "code",
      "source": [
        "print(\"Original gradient of weights\")\n",
        "print(partial_derivative_wji)\n",
        "\n",
        "prev_Δw = 0\n",
        "ε = 0.1\n",
        "α = 0.9\n",
        "\n",
        "for _ in range(5):\n",
        "    Δw = -ε * partial_derivative_wji + α * prev_Δw\n",
        "\n",
        "    partial_derivative_wji += Δw\n",
        "    prev_Δw = Δw\n",
        "\n",
        "    print(\"Updated gradient of weights:\")\n",
        "    print(partial_derivative_wji)"
      ],
      "metadata": {
        "colab": {
          "base_uri": "https://localhost:8080/"
        },
        "id": "YHCU-Br1lpT_",
        "outputId": "c075a946-695d-4210-c868-81d1022a73b7"
      },
      "execution_count": 12,
      "outputs": [
        {
          "output_type": "stream",
          "name": "stdout",
          "text": [
            "Original gradient of weights\n",
            "tensor([[ 0.0000,  0.0000],\n",
            "        [-0.0000, -0.0549],\n",
            "        [-0.1236, -0.0000],\n",
            "        [ 0.1440,  0.1440]])\n",
            "Updated gradient of weights:\n",
            "tensor([[ 0.0000,  0.0000],\n",
            "        [ 0.0000, -0.0494],\n",
            "        [-0.1112,  0.0000],\n",
            "        [ 0.1296,  0.1296]])\n",
            "Updated gradient of weights:\n",
            "tensor([[ 0.0000,  0.0000],\n",
            "        [ 0.0000, -0.0396],\n",
            "        [-0.0890,  0.0000],\n",
            "        [ 0.1037,  0.1037]])\n",
            "Updated gradient of weights:\n",
            "tensor([[ 0.0000,  0.0000],\n",
            "        [ 0.0000, -0.0267],\n",
            "        [-0.0601,  0.0000],\n",
            "        [ 0.0700,  0.0700]])\n",
            "Updated gradient of weights:\n",
            "tensor([[ 0.0000,  0.0000],\n",
            "        [ 0.0000, -0.0125],\n",
            "        [-0.0280,  0.0000],\n",
            "        [ 0.0327,  0.0327]])\n",
            "Updated gradient of weights:\n",
            "tensor([[ 0.0000,  0.0000],\n",
            "        [ 0.0000,  0.0016],\n",
            "        [ 0.0036,  0.0000],\n",
            "        [-0.0042, -0.0042]])\n"
          ]
        }
      ]
    }
  ]
}