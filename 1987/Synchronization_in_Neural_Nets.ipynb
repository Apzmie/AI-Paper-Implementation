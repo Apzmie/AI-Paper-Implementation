{
  "nbformat": 4,
  "nbformat_minor": 0,
  "metadata": {
    "colab": {
      "provenance": []
    },
    "kernelspec": {
      "name": "python3",
      "display_name": "Python 3"
    },
    "language_info": {
      "name": "python"
    }
  },
  "cells": [
    {
      "cell_type": "markdown",
      "source": [
        "### **[Figure 1 in page 826]**\n",
        "- If the neuron accumulates sufficient Activation Energy, it will produce an output.\n",
        "- If the energy is insufficient, no output will be generated."
      ],
      "metadata": {
        "id": "B73ZWDFP3Y9a"
      }
    },
    {
      "cell_type": "code",
      "source": [
        "class Neuron:\n",
        "    def __init__(self, threshold):\n",
        "        self.threshold = threshold\n",
        "        self.activation_energy = 0\n",
        "\n",
        "    def accumulate_energy(self, energy):\n",
        "        self.activation_energy += energy\n",
        "        print(f\"Accumulated Energy: {self.activation_energy}\")\n",
        "\n",
        "    def generate_output(self):\n",
        "        if self.activation_energy >= self.threshold:\n",
        "            print(\"Output: 1\")\n",
        "            self.activation_energy = 0\n",
        "        else:\n",
        "            print(\"Output: 0\")\n",
        "            self.activation_energy -= 2\n",
        "\n",
        "neuron = Neuron(threshold=5)\n",
        "\n",
        "neuron.accumulate_energy(3)\n",
        "neuron.generate_output()      # -2\n",
        "neuron.accumulate_energy(4)\n",
        "neuron.generate_output()      # reset\n",
        "neuron.accumulate_energy(1)\n",
        "neuron.generate_output()"
      ],
      "metadata": {
        "colab": {
          "base_uri": "https://localhost:8080/"
        },
        "id": "aJDEDc8r6vJi",
        "outputId": "ff4be48d-d563-4241-a96b-208e8cac40c5"
      },
      "execution_count": 2,
      "outputs": [
        {
          "output_type": "stream",
          "name": "stdout",
          "text": [
            "Accumulated Energy: 3\n",
            "Output: 0\n",
            "Accumulated Energy: 5\n",
            "Output: 1\n",
            "Accumulated Energy: 1\n",
            "Output: 0\n"
          ]
        }
      ]
    },
    {
      "cell_type": "markdown",
      "source": [
        "### **$T = Ec / a$**\n",
        "\n",
        "---\n",
        "\n",
        "### **Firing Period = Critical Energy / Energy Influx Rate**\n",
        "- The higher the critical energy, the longer the firing period because it takes a long time to accumulate enough energy to fire.\n",
        "- The higher the energy influx rate, the shorter the firing period because energy will be accumulated quickly."
      ],
      "metadata": {
        "id": "Hu4SVZn8qLgy"
      }
    },
    {
      "cell_type": "code",
      "execution_count": null,
      "metadata": {
        "colab": {
          "base_uri": "https://localhost:8080/"
        },
        "id": "4GppepVLCIPw",
        "outputId": "b8acb499-2ec1-4d68-aaac-a9ac2b5d44ae"
      },
      "outputs": [
        {
          "output_type": "stream",
          "name": "stdout",
          "text": [
            "5.0\n"
          ]
        }
      ],
      "source": [
        "def firing_period(Ec, a):\n",
        "    T = Ec / a\n",
        "    return T\n",
        "\n",
        "Ec = 10\n",
        "a = 2\n",
        "\n",
        "T = firing_period(Ec, a)\n",
        "print(T)"
      ]
    },
    {
      "cell_type": "markdown",
      "source": [
        "### **$E(t - t₀) = a(t - t₀) + Σ w_j.u_o(t - t_i) ; E ≤ E_c$**\n",
        "\n",
        "---\n",
        "\n",
        "### **Accumulated Energy = Continuous Energy Influx + Presynaptic Contribution ; Accumulated Energy ≤ Critical Energy**\n",
        "\n",
        "- $(t - t₀)$ shows the elapsed time from t₀ to t. For example, if t₀ = 2 and t = 5, $E(3)$ shows the accumulated energy during 3 seconds.\n",
        "- $w_j.u_o(t - tₗ)$ represents the multiplication of weights and unit impulses. If t=0 at $u_o(t)$, the neuron receives a unit impulse value 1, otherwise receives nothing. For example, if the impulse time $t_i$ is 5, the neuron receives 1 unit of energy at time 5. So, weights only exist when the neuron receives it.\n",
        "- Because critical energy represents the limitation, accumulated energy should always be equal or smaller."
      ],
      "metadata": {
        "id": "Zj6KHr6E_cRe"
      }
    },
    {
      "cell_type": "code",
      "source": [
        "\"\"\"\n",
        "This code shows the process of accumulating energy, not firing.\n",
        "\"\"\"\n",
        "import numpy as np\n",
        "\n",
        "def unit_impulse(t, t_i):\n",
        "    return 1 if t == t_i else 0\n",
        "\n",
        "def energy(t_0, t, weights, spike_times, a, E_c):\n",
        "    total_energy = 0\n",
        "    energy_values = []\n",
        "\n",
        "    for current_time in range(t_0, t):\n",
        "        # a(t - t₀)\n",
        "        continuous_energy_influx = a\n",
        "        # Σ wᵢ * u₀(t - tᵢ)\n",
        "        presynaptic_contribution = sum(w * unit_impulse(current_time, t_i) for w, t_i in zip(weights, spike_times))\n",
        "        # E(t - t₀)\n",
        "        total_energy += continuous_energy_influx + presynaptic_contribution\n",
        "\n",
        "        if total_energy > E_c:\n",
        "            total_energy = E_c\n",
        "\n",
        "        energy_values.append(total_energy)\n",
        "\n",
        "    return energy_values\n",
        "\n",
        "t_0 = 0\n",
        "t = 5\n",
        "weights = [0.5, 1.0, 0.8]\n",
        "spike_times = [2, 3, 4]\n",
        "a = 0.1\n",
        "E_c = 10\n",
        "\n",
        "energy_values = energy(t_0, t, weights, spike_times, a, E_c)\n",
        "\n",
        "for time, energy_value in zip(range(t_0, t), energy_values):\n",
        "    print(f\"At time {time}, accumulated energy: {energy_value}\")"
      ],
      "metadata": {
        "colab": {
          "base_uri": "https://localhost:8080/"
        },
        "id": "yHlYwUDHpCG3",
        "outputId": "154178db-b96f-4172-f485-1a7b5229c037"
      },
      "execution_count": 32,
      "outputs": [
        {
          "output_type": "stream",
          "name": "stdout",
          "text": [
            "At time 0, accumulated energy: 0.1\n",
            "At time 1, accumulated energy: 0.2\n",
            "At time 2, accumulated energy: 0.8\n",
            "At time 3, accumulated energy: 1.9000000000000001\n",
            "At time 4, accumulated energy: 2.8000000000000003\n"
          ]
        }
      ]
    }
  ]
}
